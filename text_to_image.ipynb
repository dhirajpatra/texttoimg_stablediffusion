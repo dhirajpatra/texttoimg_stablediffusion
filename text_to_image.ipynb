{
  "nbformat": 4,
  "nbformat_minor": 0,
  "metadata": {
    "colab": {
      "private_outputs": true,
      "provenance": []
    },
    "kernelspec": {
      "name": "python3",
      "display_name": "Python 3"
    },
    "language_info": {
      "name": "python"
    },
    "accelerator": "TPU",
    "gpuClass": "standard"
  },
  "cells": [
    {
      "cell_type": "code",
      "execution_count": null,
      "metadata": {
        "id": "M9FrtRaA9gpl"
      },
      "outputs": [],
      "source": [
        "!pip install --upgrade keras-cv"
      ]
    },
    {
      "cell_type": "code",
      "source": [
        "import time\n",
        "import keras_cv\n",
        "from tensorflow import keras\n",
        "import matplotlib.pyplot as plt"
      ],
      "metadata": {
        "id": "Fnbfm-Xl9lPL"
      },
      "execution_count": null,
      "outputs": []
    },
    {
      "cell_type": "code",
      "source": [
        "model = keras_cv.models.StableDiffusion(img_width=512, img_height=512)"
      ],
      "metadata": {
        "id": "onME7wWW-mDg"
      },
      "execution_count": null,
      "outputs": []
    },
    {
      "cell_type": "code",
      "source": [
        "images = model.text_to_image(\"photograph of an astronaut riding a horse\", batch_size=3)\n",
        "\n",
        "\n",
        "def plot_images(images):\n",
        "    plt.figure(figsize=(20, 20))\n",
        "    for i in range(len(images)):\n",
        "        ax = plt.subplot(1, len(images), i + 1)\n",
        "        plt.imshow(images[i])\n",
        "        plt.axis(\"off\")\n",
        "\n",
        "\n",
        "plot_images(images)"
      ],
      "metadata": {
        "id": "6Is_agIa-ojL"
      },
      "execution_count": null,
      "outputs": []
    },
    {
      "cell_type": "code",
      "source": [
        "images = model.text_to_image(\n",
        "    \"cute magical flying dog, fantasy art, \"\n",
        "    \"golden color, high quality, highly detailed, elegant, sharp focus, \"\n",
        "    \"concept art, character concepts, digital painting, mystery, adventure\",\n",
        "    batch_size=3,\n",
        ")\n",
        "plot_images(images)"
      ],
      "metadata": {
        "id": "C5kjiSUH-ty2"
      },
      "execution_count": null,
      "outputs": []
    },
    {
      "cell_type": "code",
      "source": [
        "images = model.text_to_image(\n",
        "    \"indian, \"\n",
        "    \"4000 years back, \"\n",
        "    \"soldier, farmer, king\",\n",
        "    batch_size=3,\n",
        ")\n",
        "plot_images(images)"
      ],
      "metadata": {
        "id": "JeShvulZYn8O"
      },
      "execution_count": null,
      "outputs": []
    },
    {
      "cell_type": "code",
      "source": [],
      "metadata": {
        "id": "3Hik-WMzw1yn"
      },
      "execution_count": null,
      "outputs": []
    }
  ]
}